{
 "cells": [
  {
   "cell_type": "code",
   "execution_count": 23,
   "metadata": {},
   "outputs": [],
   "source": [
    "import os\n",
    "import glob\n",
    "import pandas as pd\n",
    "from collections import defaultdict"
   ]
  },
  {
   "cell_type": "code",
   "execution_count": 29,
   "metadata": {},
   "outputs": [],
   "source": [
    "data_path = '../data/'"
   ]
  },
  {
   "cell_type": "code",
   "execution_count": 30,
   "metadata": {},
   "outputs": [
    {
     "name": "stdout",
     "output_type": "stream",
     "text": [
      "Found following scale in data: {'480', '60', '120', '960', '1920', '240'}\n"
     ]
    }
   ],
   "source": [
    "csv_paths = glob.glob(data_path + '*.csv')\n",
    "filenames = [os.path.splitext(os.path.basename(path))[0] for path in csv_paths]\n",
    "scales = set([s[s.rfind('_') + 1:] for s in filenames])\n",
    "print(f'Found following scale in data: {scales}')"
   ]
  },
  {
   "cell_type": "code",
   "execution_count": 24,
   "metadata": {},
   "outputs": [],
   "source": [
    "data_by_scale = defaultdict(list)"
   ]
  },
  {
   "cell_type": "code",
   "execution_count": 33,
   "metadata": {},
   "outputs": [
    {
     "name": "stdout",
     "output_type": "stream",
     "text": [
      "['../data/large_loss_2009_480.csv', '../data/large_loss_2015_480.csv', '../data/large_loss_2003_480.csv', '../data/large_loss_2005_480.csv', '../data/large_loss_2011_480.csv', '../data/large_loss_2012_480.csv', '../data/large_loss_2018_480.csv', '../data/large_loss_2007_480.csv', '../data/large_loss_2010_480.csv', '../data/large_treecover_480.csv', '../data/large_loss_2014_480.csv', '../data/large_loss_2017_480.csv', '../data/large_loss_2008_480.csv', '../data/large_loss_2004_480.csv', '../data/large_loss_2006_480.csv', '../data/large_loss_2013_480.csv', '../data/large_loss_2002_480.csv', '../data/large_loss_2016_480.csv', '../data/large_loss_2001_480.csv']\n",
      "['../data/large_loss_2014_960.csv', '../data/large_loss_2002_960.csv', '../data/large_loss_2001_960.csv', '../data/large_loss_2018_960.csv', '../data/large_loss_2013_960.csv', '../data/large_loss_2006_960.csv', '../data/large_loss_2016_960.csv', '../data/large_loss_2009_960.csv', '../data/large_loss_2008_960.csv', '../data/large_loss_2005_960.csv', '../data/large_loss_2004_960.csv', '../data/large_loss_2012_960.csv', '../data/large_treecover_60.csv', '../data/large_loss_2010_960.csv', '../data/large_loss_2015_960.csv', '../data/large_loss_2003_960.csv', '../data/large_loss_2017_960.csv', '../data/large_loss_2011_960.csv', '../data/large_treecover_960.csv', '../data/large_loss_2007_960.csv']\n",
      "['../data/large_treecover_120.csv']\n",
      "['../data/large_loss_2014_960.csv', '../data/large_loss_2002_960.csv', '../data/large_loss_2001_960.csv', '../data/large_loss_2018_960.csv', '../data/large_loss_2013_960.csv', '../data/large_loss_2006_960.csv', '../data/large_loss_2016_960.csv', '../data/large_loss_2009_960.csv', '../data/large_loss_2008_960.csv', '../data/large_loss_2005_960.csv', '../data/large_loss_2004_960.csv', '../data/large_loss_2012_960.csv', '../data/large_loss_2010_960.csv', '../data/large_loss_2015_960.csv', '../data/large_loss_2003_960.csv', '../data/large_loss_2017_960.csv', '../data/large_loss_2011_960.csv', '../data/large_treecover_960.csv', '../data/large_loss_2007_960.csv']\n",
      "['../data/large_loss_2015_1920.csv', '../data/large_loss_2002_1920.csv', '../data/large_loss_2007_1920.csv', '../data/large_loss_2010_1920.csv', '../data/large_treecover_1920.csv', '../data/large_loss_2017_1920.csv', '../data/large_loss_2003_1920.csv', '../data/large_loss_2006_1920.csv', '../data/large_loss_2012_1920.csv', '../data/large_loss_2009_1920.csv', '../data/large_loss_2008_1920.csv', '../data/large_loss_2013_1920.csv', '../data/large_loss_2004_1920.csv', '../data/large_loss_2001_1920.csv', '../data/large_loss_2014_1920.csv', '../data/large_loss_2005_1920.csv', '../data/large_loss_2018_1920.csv', '../data/large_loss_2011_1920.csv', '../data/large_loss_2016_1920.csv']\n",
      "['../data/large_treecover_240.csv']\n"
     ]
    }
   ],
   "source": [
    "for scale in scales:\n",
    "    files = glob.glob(data_path + '*' + scale + '.csv')\n",
    "    print(files)"
   ]
  },
  {
   "cell_type": "code",
   "execution_count": 32,
   "metadata": {},
   "outputs": [
    {
     "data": {
      "text/plain": [
       "['../data/large_treecover_240.csv']"
      ]
     },
     "execution_count": 32,
     "metadata": {},
     "output_type": "execute_result"
    }
   ],
   "source": [
    "files"
   ]
  },
  {
   "cell_type": "code",
   "execution_count": 21,
   "metadata": {},
   "outputs": [
    {
     "data": {
      "text/plain": [
       "{'120', '1920', '240', '480', '60', '960'}"
      ]
     },
     "execution_count": 21,
     "metadata": {},
     "output_type": "execute_result"
    }
   ],
   "source": [
    "scale"
   ]
  },
  {
   "cell_type": "code",
   "execution_count": null,
   "metadata": {},
   "outputs": [],
   "source": []
  }
 ],
 "metadata": {
  "kernelspec": {
   "display_name": "Python 3",
   "language": "python",
   "name": "python3"
  },
  "language_info": {
   "codemirror_mode": {
    "name": "ipython",
    "version": 3
   },
   "file_extension": ".py",
   "mimetype": "text/x-python",
   "name": "python",
   "nbconvert_exporter": "python",
   "pygments_lexer": "ipython3",
   "version": "3.7.3"
  }
 },
 "nbformat": 4,
 "nbformat_minor": 4
}
